{
 "cells": [
  {
   "cell_type": "code",
   "execution_count": 1,
   "metadata": {},
   "outputs": [],
   "source": [
    "import utils\n",
    "from utils import *\n",
    "from glob import glob\n",
    "import pandas as pd"
   ]
  },
  {
   "cell_type": "code",
   "execution_count": 2,
   "metadata": {},
   "outputs": [],
   "source": [
    "# set paths\n",
    "msf_filenames = glob('data/msfragger/*')\n",
    "ap_filenames = glob('data/alphapept/*')\n",
    "mq_filenames = glob('data/maxquant/*')\n",
    "mm_filenames = sorted(glob('data/metamorpheus/*.tsv'))\n",
    "mm_filenames_all = sorted(glob('data/metamorpheus/*.psmtsv'))"
   ]
  },
  {
   "cell_type": "code",
   "execution_count": 3,
   "metadata": {},
   "outputs": [],
   "source": [
    "# make dataframes and add sample column by using read_files function\n",
    "msf_dfs = read_files(msf_filenames)\n",
    "mq_dfs = read_files(mq_filenames)\n",
    "mm_dfs = read_files(mm_filenames)\n",
    "mm_dfs_all = read_files(mm_filenames_all)\n",
    "ap_dfs = [pd.read_csv(filename).assign(sample=filename.split('\\\\')[-1].split('.')[0]) for filename in ap_filenames]"
   ]
  },
  {
   "cell_type": "code",
   "execution_count": null,
   "metadata": {},
   "outputs": [],
   "source": [
    "# manually add fixed modification on C in MaxQuant data\n",
    "for df in mq_dfs:\n",
    "    df['Modified sequence'] = df['Modified sequence'].str.replace('C', 'C(Carbamidomethylation (C))')"
   ]
  },
  {
   "cell_type": "code",
   "execution_count": 4,
   "metadata": {},
   "outputs": [],
   "source": [
    "# parse & merge data\n",
    "msf = pd.concat([MSF_parser(df) for df in msf_dfs])\n",
    "ap = pd.concat([AP_parser(df) for df in ap_dfs])\n",
    "mq = pd.concat([MQ_parser(df) for df in mq_dfs])\n",
    "mm = pd.concat([MM_parser(df, df_all) for df, df_all in zip(mm_dfs, mm_dfs_all)])"
   ]
  },
  {
   "cell_type": "code",
   "execution_count": 5,
   "metadata": {},
   "outputs": [],
   "source": [
    "# merge different software outputs\n",
    "merge_cols = ['sample', 'peptide', 'proteinID', 'mods', 'mods_type']\n",
    "merged_df = msf.merge(ap, how='outer', left_on=merge_cols, right_on=merge_cols).merge(mq, how='outer', left_on=merge_cols, right_on=merge_cols).merge(mm, how='outer', left_on=merge_cols, right_on=merge_cols)"
   ]
  },
  {
   "cell_type": "code",
   "execution_count": 7,
   "metadata": {},
   "outputs": [],
   "source": [
    "# save files\n",
    "merged_df.to_csv('results/mega_merged_data.csv', index=False)\n",
    "\n",
    "# for sample, sub_df in merged_df.groupby('sample'):\n",
    "#     sub_df.to_csv(f'results/{sample}_merged_data.csv', index=False)"
   ]
  }
 ],
 "metadata": {
  "kernelspec": {
   "display_name": "Python 3",
   "language": "python",
   "name": "python3"
  },
  "language_info": {
   "codemirror_mode": {
    "name": "ipython",
    "version": 3
   },
   "file_extension": ".py",
   "mimetype": "text/x-python",
   "name": "python",
   "nbconvert_exporter": "python",
   "pygments_lexer": "ipython3",
   "version": "3.11.5"
  }
 },
 "nbformat": 4,
 "nbformat_minor": 2
}
