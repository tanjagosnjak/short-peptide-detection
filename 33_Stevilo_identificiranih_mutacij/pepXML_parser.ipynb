{
 "cells": [
  {
   "cell_type": "markdown",
   "metadata": {},
   "source": [
    "## Parsing pepXML file"
   ]
  },
  {
   "cell_type": "code",
   "execution_count": 1,
   "metadata": {},
   "outputs": [],
   "source": [
    "import xml.etree.ElementTree as ET\n",
    "import pandas as pd"
   ]
  },
  {
   "cell_type": "code",
   "execution_count": null,
   "metadata": {},
   "outputs": [],
   "source": [
    "# Load and parse the XML file\n",
    "tree = ET.parse('47662_e10669_MB032_Pupae_Thr_tRNA_04.pepXML')\n",
    "root = tree.getroot()\n",
    "\n",
    "# Initialize lists to store peptides, proteins, and probabilities\n",
    "peptides = []\n",
    "proteins = []\n",
    "probabilities = []\n",
    "\n",
    "# Iterate through each search_hit element\n",
    "for search_hit in root.iter('search_hit'):\n",
    "    # Get the peptide sequence without modifications\n",
    "    peptide_seq = search_hit.get('peptide')\n",
    "    \n",
    "    # Find the modification_info element\n",
    "    mod_info = search_hit.find('modification_info')\n",
    "    if mod_info is not None:\n",
    "        modified_peptide = mod_info.get('modified_peptide')\n",
    "        \n",
    "        # check if the modified peptide contains 'T['\n",
    "        if 'T[' in modified_peptide:\n",
    "            # Add the modified peptide to the peptides list\n",
    "            peptides.append(modified_peptide)\n",
    "            \n",
    "            # Get the primary protein\n",
    "            primary_protein = search_hit.get('protein')\n",
    "            protein_list = [primary_protein]\n",
    "            \n",
    "            # Get alternative proteins\n",
    "            for alt_protein in search_hit.findall('alternative_protein'):\n",
    "                protein_list.append(alt_protein.get('protein'))\n",
    "                \n",
    "            # Join all proteins with commas and add to the proteins list\n",
    "            proteins.append(', '.join(protein_list))\n",
    "            \n",
    "            # Find the peptideprophet_result element and get the probability\n",
    "            peptideprophet_result = search_hit.find('.//peptideprophet_result')\n",
    "            if peptideprophet_result is not None:\n",
    "                probability = peptideprophet_result.get('probability')\n",
    "                probabilities.append(probability)\n",
    "\n",
    "# Create a dataframe with the collected data\n",
    "df = pd.DataFrame({\n",
    "    'peptide': peptides,\n",
    "    'protein': proteins,\n",
    "    'probability': probabilities\n",
    "})"
   ]
  },
  {
   "cell_type": "code",
   "execution_count": 3,
   "metadata": {},
   "outputs": [
    {
     "data": {
      "text/plain": [
       "779"
      ]
     },
     "execution_count": 3,
     "metadata": {},
     "output_type": "execute_result"
    }
   ],
   "source": [
    "len(df)"
   ]
  },
  {
   "cell_type": "code",
   "execution_count": null,
   "metadata": {},
   "outputs": [],
   "source": [
    "# convert the probability column to float\n",
    "df['probability'] = df['probability'].astype(float)\n",
    "\n",
    "# sort the dataframe by probability in descending order\n",
    "probabilityok = df.sort_values(by='probability', ascending=False)\n",
    "\n",
    "# drop duplicates, keeping only the first occurrence (which has the highest probability due to sorting)\n",
    "probabilityok = probabilityok.drop_duplicates(subset=['peptide', 'protein'], keep='first')\n",
    "\n",
    "# Delete rows that contain 'Decoy'\n",
    "df = probabilityok[~probabilityok['protein'].str.contains('DECOY', case=False, na=False)]"
   ]
  },
  {
   "cell_type": "code",
   "execution_count": 21,
   "metadata": {},
   "outputs": [],
   "source": [
    "# Save the results to a TSV file\n",
    "df.to_csv('filtered.tsv', sep='\\t', index=False)"
   ]
  }
 ],
 "metadata": {
  "kernelspec": {
   "display_name": "base",
   "language": "python",
   "name": "python3"
  },
  "language_info": {
   "codemirror_mode": {
    "name": "ipython",
    "version": 3
   },
   "file_extension": ".py",
   "mimetype": "text/x-python",
   "name": "python",
   "nbconvert_exporter": "python",
   "pygments_lexer": "ipython3",
   "version": "3.11.9"
  }
 },
 "nbformat": 4,
 "nbformat_minor": 2
}
